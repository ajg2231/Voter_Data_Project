{
 "cells": [
  {
   "cell_type": "code",
   "execution_count": 2,
   "metadata": {},
   "outputs": [],
   "source": [
    "import pandas as pd\n",
    "import bs4\n",
    "import requests"
   ]
  },
  {
   "cell_type": "code",
   "execution_count": 3,
   "metadata": {},
   "outputs": [],
   "source": [
    "url = 'https://www.pewresearch.org/politics/2015/04/07/party-identification-trends-1992-2014/#education'\n",
    "a = requests.get(url)"
   ]
  },
  {
   "cell_type": "code",
   "execution_count": 4,
   "metadata": {},
   "outputs": [],
   "source": [
    "b = pd.read_html(url)"
   ]
  },
  {
   "cell_type": "code",
   "execution_count": 6,
   "metadata": {},
   "outputs": [
    {
     "name": "stdout",
     "output_type": "stream",
     "text": [
      "    Year  Rep/Lean Rep  Dem/Lean Dem\n",
      "0   1992            50            43\n",
      "1   1993            46            45\n",
      "2   1994            49            42\n",
      "3   1995            50            42\n",
      "4   1996            48            46\n",
      "5   1997            46            46\n",
      "6   1998            46            44\n",
      "7   1999            45            47\n",
      "8   2000            46            42\n",
      "9   2001            46            44\n",
      "10  2002            49            41\n",
      "11  2003            47            44\n",
      "12  2004            45            47\n",
      "13  2005            43            49\n",
      "14  2006            42            48\n",
      "15  2007            41            49\n",
      "16  2008            39            51\n",
      "17  2009            40            50\n",
      "18  2010            44            48\n",
      "19  2011            42            50\n",
      "20  2012            41            51\n",
      "21  2013            40            51\n",
      "22  2014            40            52\n"
     ]
    }
   ],
   "source": [
    "c = b[10]\n",
    "print(c)"
   ]
  },
  {
   "cell_type": "code",
   "execution_count": 17,
   "metadata": {},
   "outputs": [
    {
     "data": {
      "text/plain": [
       "[]"
      ]
     },
     "execution_count": 17,
     "metadata": {},
     "output_type": "execute_result"
    }
   ],
   "source": []
  },
  {
   "cell_type": "code",
   "execution_count": null,
   "metadata": {},
   "outputs": [],
   "source": []
  }
 ],
 "metadata": {
  "kernelspec": {
   "display_name": "Python 3",
   "language": "python",
   "name": "python3"
  },
  "language_info": {
   "codemirror_mode": {
    "name": "ipython",
    "version": 3
   },
   "file_extension": ".py",
   "mimetype": "text/x-python",
   "name": "python",
   "nbconvert_exporter": "python",
   "pygments_lexer": "ipython3",
   "version": "3.8.3"
  }
 },
 "nbformat": 4,
 "nbformat_minor": 4
}
